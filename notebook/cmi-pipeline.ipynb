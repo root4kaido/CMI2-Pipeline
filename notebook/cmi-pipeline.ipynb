{
 "cells": [
  {
   "cell_type": "markdown",
   "id": "29e786ad-d893-4b07-b69b-6ca93a1793de",
   "metadata": {},
   "source": [
    "## train pred example"
   ]
  },
  {
   "cell_type": "code",
   "execution_count": 1,
   "id": "5853c16b",
   "metadata": {
    "papermill": {
     "duration": 0.01053,
     "end_time": "2024-12-28T15:54:22.558577",
     "exception": false,
     "start_time": "2024-12-28T15:54:22.548047",
     "status": "completed"
    },
    "tags": []
   },
   "outputs": [],
   "source": [
    "exp_names = []"
   ]
  },
  {
   "cell_type": "code",
   "execution_count": 2,
   "id": "9be0232c",
   "metadata": {
    "papermill": {
     "duration": 22.06297,
     "end_time": "2024-12-28T15:54:44.625378",
     "exception": false,
     "start_time": "2024-12-28T15:54:22.562408",
     "status": "completed"
    },
    "tags": []
   },
   "outputs": [
    {
     "name": "stdout",
     "output_type": "stream",
     "text": [
      "/opt/conda/lib/python3.10/site-packages/scipy/__init__.py:146: UserWarning: A NumPy version >=1.16.5 and <1.23.0 is required for this version of SciPy (detected version 1.24.3\n",
      "  warnings.warn(f\"A NumPy version >={np_minversion} and <{np_maxversion}\"\n",
      "INFO: Seed set to 42\n",
      "[2024-12-28 17:51:51,382][lightning.fabric.utilities.seed][INFO] - Seed set to 42\n",
      "100%|█████████████████████████████████████████| 996/996 [00:10<00:00, 90.79it/s]\n",
      "/home/user/work/CMI2024/CMI2-Pipeline/notebook/lgbm_regressor\n"
     ]
    }
   ],
   "source": [
    "exp_name = \"lgbm_regressor\"\n",
    "\n",
    "!python3 ../inference.py \\\n",
    "    model_name=CustomLGBMRegressor \\\n",
    "    output_dir=/home/user/work/CMI2024/CMI2-Pipeline/notebook/{exp_name} \\\n",
    "    exp_name={exp_name} \\\n",
    "    model_path=/home/user/work/CMI2024/CMI2-Pipeline/results/{exp_name}/total_models.pkl \\\n",
    "    phase=train\n",
    "\n",
    "exp_names.append(exp_name)"
   ]
  },
  {
   "cell_type": "code",
   "execution_count": 3,
   "id": "75d286ca",
   "metadata": {
    "papermill": {
     "duration": 13.809645,
     "end_time": "2024-12-28T15:54:58.439002",
     "exception": false,
     "start_time": "2024-12-28T15:54:44.629357",
     "status": "completed"
    },
    "tags": []
   },
   "outputs": [
    {
     "name": "stdout",
     "output_type": "stream",
     "text": [
      "/opt/conda/lib/python3.10/site-packages/scipy/__init__.py:146: UserWarning: A NumPy version >=1.16.5 and <1.23.0 is required for this version of SciPy (detected version 1.24.3\n",
      "  warnings.warn(f\"A NumPy version >={np_minversion} and <{np_maxversion}\"\n",
      "INFO: Seed set to 42\n",
      "[2024-12-28 17:52:14,077][lightning.fabric.utilities.seed][INFO] - Seed set to 42\n",
      "100%|█████████████████████████████████████████| 996/996 [00:12<00:00, 80.45it/s]\n",
      "/home/user/work/CMI2024/CMI2-Pipeline/notebook/lgbm_classifier\n"
     ]
    }
   ],
   "source": [
    "exp_name = \"lgbm_classifier\"\n",
    "\n",
    "!python3 ../inference.py \\\n",
    "    model_name=CustomLGBMClassifier \\\n",
    "    output_dir=/home/user/work/CMI2024/CMI2-Pipeline/notebook/{exp_name} \\\n",
    "    exp_name={exp_name} \\\n",
    "    model_path=/home/user/work/CMI2024/CMI2-Pipeline/results/{exp_name}/total_models.pkl \\\n",
    "    phase=train\n",
    "\n",
    "exp_names.append(exp_name)"
   ]
  },
  {
   "cell_type": "code",
   "execution_count": 4,
   "id": "095c6812",
   "metadata": {
    "papermill": {
     "duration": 11.749907,
     "end_time": "2024-12-28T15:55:10.193168",
     "exception": false,
     "start_time": "2024-12-28T15:54:58.443261",
     "status": "completed"
    },
    "tags": []
   },
   "outputs": [
    {
     "name": "stdout",
     "output_type": "stream",
     "text": [
      "/opt/conda/lib/python3.10/site-packages/scipy/__init__.py:146: UserWarning: A NumPy version >=1.16.5 and <1.23.0 is required for this version of SciPy (detected version 1.24.3\n",
      "  warnings.warn(f\"A NumPy version >={np_minversion} and <{np_maxversion}\"\n",
      "INFO: Seed set to 42\n",
      "[2024-12-28 17:52:38,477][lightning.fabric.utilities.seed][INFO] - Seed set to 42\n",
      "100%|█████████████████████████████████████████| 996/996 [00:10<00:00, 91.06it/s]\n",
      "/home/user/work/CMI2024/CMI2-Pipeline/notebook/xgb_regressor\n"
     ]
    }
   ],
   "source": [
    "exp_name = \"xgb_regressor\"\n",
    "\n",
    "!python3 ../inference.py \\\n",
    "    model_name=CustomXGBRegressor \\\n",
    "    output_dir=/home/user/work/CMI2024/CMI2-Pipeline/notebook/{exp_name} \\\n",
    "    exp_name={exp_name} \\\n",
    "    model_path=/home/user/work/CMI2024/CMI2-Pipeline/results/{exp_name}/total_models.pkl \\\n",
    "    phase=train\n",
    "\n",
    "exp_names.append(exp_name)"
   ]
  },
  {
   "cell_type": "code",
   "execution_count": 5,
   "id": "d66ec91e",
   "metadata": {
    "papermill": {
     "duration": 16.146646,
     "end_time": "2024-12-28T15:55:26.344422",
     "exception": false,
     "start_time": "2024-12-28T15:55:10.197776",
     "status": "completed"
    },
    "tags": []
   },
   "outputs": [
    {
     "name": "stdout",
     "output_type": "stream",
     "text": [
      "/opt/conda/lib/python3.10/site-packages/scipy/__init__.py:146: UserWarning: A NumPy version >=1.16.5 and <1.23.0 is required for this version of SciPy (detected version 1.24.3\n",
      "  warnings.warn(f\"A NumPy version >={np_minversion} and <{np_maxversion}\"\n",
      "INFO: Seed set to 42\n",
      "[2024-12-28 17:53:02,736][lightning.fabric.utilities.seed][INFO] - Seed set to 42\n",
      "100%|█████████████████████████████████████████| 996/996 [00:11<00:00, 90.38it/s]\n",
      "/home/user/work/CMI2024/CMI2-Pipeline/notebook/xgb_classifier\n"
     ]
    }
   ],
   "source": [
    "exp_name = \"xgb_classifier\"\n",
    "\n",
    "!python3 ../inference.py \\\n",
    "    model_name=CustomXGBClassifier \\\n",
    "    output_dir=/home/user/work/CMI2024/CMI2-Pipeline/notebook/{exp_name} \\\n",
    "    exp_name={exp_name} \\\n",
    "    model_path=/home/user/work/CMI2024/CMI2-Pipeline/results/{exp_name}/total_models.pkl \\\n",
    "    phase=train\n",
    "\n",
    "exp_names.append(exp_name)"
   ]
  },
  {
   "cell_type": "code",
   "execution_count": 6,
   "id": "fb948a5f",
   "metadata": {
    "papermill": {
     "duration": 0.785565,
     "end_time": "2024-12-28T15:55:27.134908",
     "exception": false,
     "start_time": "2024-12-28T15:55:26.349343",
     "status": "completed"
    },
    "tags": []
   },
   "outputs": [
    {
     "name": "stderr",
     "output_type": "stream",
     "text": [
      "/opt/conda/lib/python3.10/site-packages/scipy/__init__.py:146: UserWarning: A NumPy version >=1.16.5 and <1.23.0 is required for this version of SciPy (detected version 1.24.3\n",
      "  warnings.warn(f\"A NumPy version >={np_minversion} and <{np_maxversion}\"\n"
     ]
    }
   ],
   "source": [
    "from scipy import stats\n",
    "import pandas as pd\n",
    "import numpy as np"
   ]
  },
  {
   "cell_type": "code",
   "execution_count": 7,
   "id": "5587afac",
   "metadata": {
    "papermill": {
     "duration": 0.011267,
     "end_time": "2024-12-28T15:55:27.150628",
     "exception": false,
     "start_time": "2024-12-28T15:55:27.139361",
     "status": "completed"
    },
    "tags": []
   },
   "outputs": [],
   "source": [
    "def voting(array_2d):\n",
    "    # axis=0で各列について最頻値を計算\n",
    "    # mode関数は(最頻値, 出現回数)のタプルを返すため[0]で最頻値のみを取得\n",
    "    return stats.mode(array_2d, axis=0)[0]"
   ]
  },
  {
   "cell_type": "code",
   "execution_count": 14,
   "id": "cee056bc",
   "metadata": {
    "papermill": {
     "duration": 0.01737,
     "end_time": "2024-12-28T15:55:27.172425",
     "exception": false,
     "start_time": "2024-12-28T15:55:27.155055",
     "status": "completed"
    },
    "tags": []
   },
   "outputs": [],
   "source": [
    "df_subm = pd.read_csv(\"/home/user/work/CMI2024/data/child-mind-institute-problematic-internet-use/train.csv\")\n",
    "df_subm = df_subm[df_subm[\"sii\"].notna()]"
   ]
  },
  {
   "cell_type": "code",
   "execution_count": 10,
   "id": "cc4f8e0b",
   "metadata": {
    "papermill": {
     "duration": 0.016351,
     "end_time": "2024-12-28T15:55:27.193333",
     "exception": false,
     "start_time": "2024-12-28T15:55:27.176982",
     "status": "completed"
    },
    "tags": []
   },
   "outputs": [
    {
     "data": {
      "text/plain": [
       "(200, 2736)"
      ]
     },
     "execution_count": 10,
     "metadata": {},
     "output_type": "execute_result"
    }
   ],
   "source": [
    "test_preds = []\n",
    "for exp_name in exp_names:\n",
    "    test_pred = np.load(f'./{exp_name}/train_submission.npy')\n",
    "    test_preds.extend(test_pred)\n",
    "test_preds = np.array(test_preds)\n",
    "test_preds.shape"
   ]
  },
  {
   "cell_type": "code",
   "execution_count": 11,
   "id": "f4abf043",
   "metadata": {
    "papermill": {
     "duration": 0.014238,
     "end_time": "2024-12-28T15:55:27.212277",
     "exception": false,
     "start_time": "2024-12-28T15:55:27.198039",
     "status": "completed"
    },
    "tags": []
   },
   "outputs": [],
   "source": [
    "test_pred = voting(test_preds)"
   ]
  },
  {
   "cell_type": "code",
   "execution_count": 12,
   "id": "b0fee436",
   "metadata": {
    "execution": {
     "iopub.execute_input": "2024-12-28T15:55:27.222201Z",
     "iopub.status.busy": "2024-12-28T15:55:27.221846Z",
     "iopub.status.idle": "2024-12-28T15:55:27.351072Z",
     "shell.execute_reply": "2024-12-28T15:55:27.349593Z"
    },
    "papermill": {
     "duration": 0.136501,
     "end_time": "2024-12-28T15:55:27.353342",
     "exception": false,
     "start_time": "2024-12-28T15:55:27.216841",
     "status": "completed"
    },
    "tags": []
   },
   "outputs": [],
   "source": [
    "# !rm -rf /kaggle/working/*"
   ]
  },
  {
   "cell_type": "code",
   "execution_count": 15,
   "id": "579c2bff",
   "metadata": {
    "papermill": {
     "duration": 0.015775,
     "end_time": "2024-12-28T15:55:27.373737",
     "exception": false,
     "start_time": "2024-12-28T15:55:27.357962",
     "status": "completed"
    },
    "tags": []
   },
   "outputs": [],
   "source": [
    "df_subm[\"sii_pred\"] = test_pred.reshape(-1)\n",
    "# df_subm.to_csv(\"submission.csv\", index=False)"
   ]
  },
  {
   "cell_type": "code",
   "execution_count": 16,
   "id": "48ce9b55",
   "metadata": {
    "papermill": {
     "duration": 0.024796,
     "end_time": "2024-12-28T15:55:27.402962",
     "exception": false,
     "start_time": "2024-12-28T15:55:27.378166",
     "status": "completed"
    },
    "tags": []
   },
   "outputs": [
    {
     "data": {
      "text/html": [
       "<div>\n",
       "<style scoped>\n",
       "    .dataframe tbody tr th:only-of-type {\n",
       "        vertical-align: middle;\n",
       "    }\n",
       "\n",
       "    .dataframe tbody tr th {\n",
       "        vertical-align: top;\n",
       "    }\n",
       "\n",
       "    .dataframe thead th {\n",
       "        text-align: right;\n",
       "    }\n",
       "</style>\n",
       "<table border=\"1\" class=\"dataframe\">\n",
       "  <thead>\n",
       "    <tr style=\"text-align: right;\">\n",
       "      <th></th>\n",
       "      <th>id</th>\n",
       "      <th>Basic_Demos-Enroll_Season</th>\n",
       "      <th>Basic_Demos-Age</th>\n",
       "      <th>Basic_Demos-Sex</th>\n",
       "      <th>CGAS-Season</th>\n",
       "      <th>CGAS-CGAS_Score</th>\n",
       "      <th>Physical-Season</th>\n",
       "      <th>Physical-BMI</th>\n",
       "      <th>Physical-Height</th>\n",
       "      <th>Physical-Weight</th>\n",
       "      <th>...</th>\n",
       "      <th>PCIAT-PCIAT_19</th>\n",
       "      <th>PCIAT-PCIAT_20</th>\n",
       "      <th>PCIAT-PCIAT_Total</th>\n",
       "      <th>SDS-Season</th>\n",
       "      <th>SDS-SDS_Total_Raw</th>\n",
       "      <th>SDS-SDS_Total_T</th>\n",
       "      <th>PreInt_EduHx-Season</th>\n",
       "      <th>PreInt_EduHx-computerinternet_hoursday</th>\n",
       "      <th>sii</th>\n",
       "      <th>sii_pred</th>\n",
       "    </tr>\n",
       "  </thead>\n",
       "  <tbody>\n",
       "    <tr>\n",
       "      <th>0</th>\n",
       "      <td>00008ff9</td>\n",
       "      <td>Fall</td>\n",
       "      <td>5</td>\n",
       "      <td>0</td>\n",
       "      <td>Winter</td>\n",
       "      <td>51.0</td>\n",
       "      <td>Fall</td>\n",
       "      <td>16.877316</td>\n",
       "      <td>46.0</td>\n",
       "      <td>50.8</td>\n",
       "      <td>...</td>\n",
       "      <td>2.0</td>\n",
       "      <td>4.0</td>\n",
       "      <td>55.0</td>\n",
       "      <td>NaN</td>\n",
       "      <td>NaN</td>\n",
       "      <td>NaN</td>\n",
       "      <td>Fall</td>\n",
       "      <td>3.0</td>\n",
       "      <td>2.0</td>\n",
       "      <td>0.0</td>\n",
       "    </tr>\n",
       "    <tr>\n",
       "      <th>1</th>\n",
       "      <td>000fd460</td>\n",
       "      <td>Summer</td>\n",
       "      <td>9</td>\n",
       "      <td>0</td>\n",
       "      <td>NaN</td>\n",
       "      <td>NaN</td>\n",
       "      <td>Fall</td>\n",
       "      <td>14.035590</td>\n",
       "      <td>48.0</td>\n",
       "      <td>46.0</td>\n",
       "      <td>...</td>\n",
       "      <td>0.0</td>\n",
       "      <td>0.0</td>\n",
       "      <td>0.0</td>\n",
       "      <td>Fall</td>\n",
       "      <td>46.0</td>\n",
       "      <td>64.0</td>\n",
       "      <td>Summer</td>\n",
       "      <td>0.0</td>\n",
       "      <td>0.0</td>\n",
       "      <td>0.0</td>\n",
       "    </tr>\n",
       "    <tr>\n",
       "      <th>2</th>\n",
       "      <td>00105258</td>\n",
       "      <td>Summer</td>\n",
       "      <td>10</td>\n",
       "      <td>1</td>\n",
       "      <td>Fall</td>\n",
       "      <td>71.0</td>\n",
       "      <td>Fall</td>\n",
       "      <td>16.648696</td>\n",
       "      <td>56.5</td>\n",
       "      <td>75.6</td>\n",
       "      <td>...</td>\n",
       "      <td>1.0</td>\n",
       "      <td>1.0</td>\n",
       "      <td>28.0</td>\n",
       "      <td>Fall</td>\n",
       "      <td>38.0</td>\n",
       "      <td>54.0</td>\n",
       "      <td>Summer</td>\n",
       "      <td>2.0</td>\n",
       "      <td>0.0</td>\n",
       "      <td>0.0</td>\n",
       "    </tr>\n",
       "    <tr>\n",
       "      <th>3</th>\n",
       "      <td>00115b9f</td>\n",
       "      <td>Winter</td>\n",
       "      <td>9</td>\n",
       "      <td>0</td>\n",
       "      <td>Fall</td>\n",
       "      <td>71.0</td>\n",
       "      <td>Summer</td>\n",
       "      <td>18.292347</td>\n",
       "      <td>56.0</td>\n",
       "      <td>81.6</td>\n",
       "      <td>...</td>\n",
       "      <td>4.0</td>\n",
       "      <td>1.0</td>\n",
       "      <td>44.0</td>\n",
       "      <td>Summer</td>\n",
       "      <td>31.0</td>\n",
       "      <td>45.0</td>\n",
       "      <td>Winter</td>\n",
       "      <td>0.0</td>\n",
       "      <td>1.0</td>\n",
       "      <td>0.0</td>\n",
       "    </tr>\n",
       "    <tr>\n",
       "      <th>5</th>\n",
       "      <td>001f3379</td>\n",
       "      <td>Spring</td>\n",
       "      <td>13</td>\n",
       "      <td>1</td>\n",
       "      <td>Winter</td>\n",
       "      <td>50.0</td>\n",
       "      <td>Summer</td>\n",
       "      <td>22.279952</td>\n",
       "      <td>59.5</td>\n",
       "      <td>112.2</td>\n",
       "      <td>...</td>\n",
       "      <td>2.0</td>\n",
       "      <td>1.0</td>\n",
       "      <td>34.0</td>\n",
       "      <td>Summer</td>\n",
       "      <td>40.0</td>\n",
       "      <td>56.0</td>\n",
       "      <td>Spring</td>\n",
       "      <td>0.0</td>\n",
       "      <td>1.0</td>\n",
       "      <td>1.0</td>\n",
       "    </tr>\n",
       "    <tr>\n",
       "      <th>...</th>\n",
       "      <td>...</td>\n",
       "      <td>...</td>\n",
       "      <td>...</td>\n",
       "      <td>...</td>\n",
       "      <td>...</td>\n",
       "      <td>...</td>\n",
       "      <td>...</td>\n",
       "      <td>...</td>\n",
       "      <td>...</td>\n",
       "      <td>...</td>\n",
       "      <td>...</td>\n",
       "      <td>...</td>\n",
       "      <td>...</td>\n",
       "      <td>...</td>\n",
       "      <td>...</td>\n",
       "      <td>...</td>\n",
       "      <td>...</td>\n",
       "      <td>...</td>\n",
       "      <td>...</td>\n",
       "      <td>...</td>\n",
       "      <td>...</td>\n",
       "    </tr>\n",
       "    <tr>\n",
       "      <th>3953</th>\n",
       "      <td>ff6c2bb8</td>\n",
       "      <td>Fall</td>\n",
       "      <td>8</td>\n",
       "      <td>0</td>\n",
       "      <td>NaN</td>\n",
       "      <td>NaN</td>\n",
       "      <td>Fall</td>\n",
       "      <td>17.139810</td>\n",
       "      <td>52.5</td>\n",
       "      <td>67.2</td>\n",
       "      <td>...</td>\n",
       "      <td>2.0</td>\n",
       "      <td>1.0</td>\n",
       "      <td>22.0</td>\n",
       "      <td>Fall</td>\n",
       "      <td>41.0</td>\n",
       "      <td>58.0</td>\n",
       "      <td>Fall</td>\n",
       "      <td>2.0</td>\n",
       "      <td>0.0</td>\n",
       "      <td>0.0</td>\n",
       "    </tr>\n",
       "    <tr>\n",
       "      <th>3954</th>\n",
       "      <td>ff759544</td>\n",
       "      <td>Summer</td>\n",
       "      <td>7</td>\n",
       "      <td>1</td>\n",
       "      <td>NaN</td>\n",
       "      <td>NaN</td>\n",
       "      <td>Summer</td>\n",
       "      <td>13.927006</td>\n",
       "      <td>48.5</td>\n",
       "      <td>46.6</td>\n",
       "      <td>...</td>\n",
       "      <td>3.0</td>\n",
       "      <td>0.0</td>\n",
       "      <td>33.0</td>\n",
       "      <td>Summer</td>\n",
       "      <td>48.0</td>\n",
       "      <td>67.0</td>\n",
       "      <td>Summer</td>\n",
       "      <td>0.0</td>\n",
       "      <td>1.0</td>\n",
       "      <td>0.0</td>\n",
       "    </tr>\n",
       "    <tr>\n",
       "      <th>3955</th>\n",
       "      <td>ff8a2de4</td>\n",
       "      <td>Fall</td>\n",
       "      <td>13</td>\n",
       "      <td>0</td>\n",
       "      <td>Spring</td>\n",
       "      <td>60.0</td>\n",
       "      <td>Fall</td>\n",
       "      <td>16.362460</td>\n",
       "      <td>59.5</td>\n",
       "      <td>82.4</td>\n",
       "      <td>...</td>\n",
       "      <td>1.0</td>\n",
       "      <td>0.0</td>\n",
       "      <td>32.0</td>\n",
       "      <td>Winter</td>\n",
       "      <td>35.0</td>\n",
       "      <td>50.0</td>\n",
       "      <td>Fall</td>\n",
       "      <td>1.0</td>\n",
       "      <td>1.0</td>\n",
       "      <td>1.0</td>\n",
       "    </tr>\n",
       "    <tr>\n",
       "      <th>3957</th>\n",
       "      <td>ffcd4dbd</td>\n",
       "      <td>Fall</td>\n",
       "      <td>11</td>\n",
       "      <td>0</td>\n",
       "      <td>Spring</td>\n",
       "      <td>68.0</td>\n",
       "      <td>Winter</td>\n",
       "      <td>21.441500</td>\n",
       "      <td>60.0</td>\n",
       "      <td>109.8</td>\n",
       "      <td>...</td>\n",
       "      <td>0.0</td>\n",
       "      <td>1.0</td>\n",
       "      <td>31.0</td>\n",
       "      <td>Winter</td>\n",
       "      <td>56.0</td>\n",
       "      <td>77.0</td>\n",
       "      <td>Fall</td>\n",
       "      <td>0.0</td>\n",
       "      <td>1.0</td>\n",
       "      <td>1.0</td>\n",
       "    </tr>\n",
       "    <tr>\n",
       "      <th>3958</th>\n",
       "      <td>ffed1dd5</td>\n",
       "      <td>Spring</td>\n",
       "      <td>13</td>\n",
       "      <td>0</td>\n",
       "      <td>Spring</td>\n",
       "      <td>70.0</td>\n",
       "      <td>Winter</td>\n",
       "      <td>12.235895</td>\n",
       "      <td>70.7</td>\n",
       "      <td>87.0</td>\n",
       "      <td>...</td>\n",
       "      <td>1.0</td>\n",
       "      <td>1.0</td>\n",
       "      <td>19.0</td>\n",
       "      <td>Spring</td>\n",
       "      <td>33.0</td>\n",
       "      <td>47.0</td>\n",
       "      <td>Spring</td>\n",
       "      <td>1.0</td>\n",
       "      <td>0.0</td>\n",
       "      <td>1.0</td>\n",
       "    </tr>\n",
       "  </tbody>\n",
       "</table>\n",
       "<p>2736 rows × 83 columns</p>\n",
       "</div>"
      ],
      "text/plain": [
       "            id Basic_Demos-Enroll_Season  Basic_Demos-Age  Basic_Demos-Sex  \\\n",
       "0     00008ff9                      Fall                5                0   \n",
       "1     000fd460                    Summer                9                0   \n",
       "2     00105258                    Summer               10                1   \n",
       "3     00115b9f                    Winter                9                0   \n",
       "5     001f3379                    Spring               13                1   \n",
       "...        ...                       ...              ...              ...   \n",
       "3953  ff6c2bb8                      Fall                8                0   \n",
       "3954  ff759544                    Summer                7                1   \n",
       "3955  ff8a2de4                      Fall               13                0   \n",
       "3957  ffcd4dbd                      Fall               11                0   \n",
       "3958  ffed1dd5                    Spring               13                0   \n",
       "\n",
       "     CGAS-Season  CGAS-CGAS_Score Physical-Season  Physical-BMI  \\\n",
       "0         Winter             51.0            Fall     16.877316   \n",
       "1            NaN              NaN            Fall     14.035590   \n",
       "2           Fall             71.0            Fall     16.648696   \n",
       "3           Fall             71.0          Summer     18.292347   \n",
       "5         Winter             50.0          Summer     22.279952   \n",
       "...          ...              ...             ...           ...   \n",
       "3953         NaN              NaN            Fall     17.139810   \n",
       "3954         NaN              NaN          Summer     13.927006   \n",
       "3955      Spring             60.0            Fall     16.362460   \n",
       "3957      Spring             68.0          Winter     21.441500   \n",
       "3958      Spring             70.0          Winter     12.235895   \n",
       "\n",
       "      Physical-Height  Physical-Weight  ...  PCIAT-PCIAT_19  PCIAT-PCIAT_20  \\\n",
       "0                46.0             50.8  ...             2.0             4.0   \n",
       "1                48.0             46.0  ...             0.0             0.0   \n",
       "2                56.5             75.6  ...             1.0             1.0   \n",
       "3                56.0             81.6  ...             4.0             1.0   \n",
       "5                59.5            112.2  ...             2.0             1.0   \n",
       "...               ...              ...  ...             ...             ...   \n",
       "3953             52.5             67.2  ...             2.0             1.0   \n",
       "3954             48.5             46.6  ...             3.0             0.0   \n",
       "3955             59.5             82.4  ...             1.0             0.0   \n",
       "3957             60.0            109.8  ...             0.0             1.0   \n",
       "3958             70.7             87.0  ...             1.0             1.0   \n",
       "\n",
       "      PCIAT-PCIAT_Total  SDS-Season SDS-SDS_Total_Raw  SDS-SDS_Total_T  \\\n",
       "0                  55.0         NaN               NaN              NaN   \n",
       "1                   0.0        Fall              46.0             64.0   \n",
       "2                  28.0        Fall              38.0             54.0   \n",
       "3                  44.0      Summer              31.0             45.0   \n",
       "5                  34.0      Summer              40.0             56.0   \n",
       "...                 ...         ...               ...              ...   \n",
       "3953               22.0        Fall              41.0             58.0   \n",
       "3954               33.0      Summer              48.0             67.0   \n",
       "3955               32.0      Winter              35.0             50.0   \n",
       "3957               31.0      Winter              56.0             77.0   \n",
       "3958               19.0      Spring              33.0             47.0   \n",
       "\n",
       "      PreInt_EduHx-Season  PreInt_EduHx-computerinternet_hoursday  sii  \\\n",
       "0                    Fall                                     3.0  2.0   \n",
       "1                  Summer                                     0.0  0.0   \n",
       "2                  Summer                                     2.0  0.0   \n",
       "3                  Winter                                     0.0  1.0   \n",
       "5                  Spring                                     0.0  1.0   \n",
       "...                   ...                                     ...  ...   \n",
       "3953                 Fall                                     2.0  0.0   \n",
       "3954               Summer                                     0.0  1.0   \n",
       "3955                 Fall                                     1.0  1.0   \n",
       "3957                 Fall                                     0.0  1.0   \n",
       "3958               Spring                                     1.0  0.0   \n",
       "\n",
       "      sii_pred  \n",
       "0          0.0  \n",
       "1          0.0  \n",
       "2          0.0  \n",
       "3          0.0  \n",
       "5          1.0  \n",
       "...        ...  \n",
       "3953       0.0  \n",
       "3954       0.0  \n",
       "3955       1.0  \n",
       "3957       1.0  \n",
       "3958       1.0  \n",
       "\n",
       "[2736 rows x 83 columns]"
      ]
     },
     "execution_count": 16,
     "metadata": {},
     "output_type": "execute_result"
    }
   ],
   "source": [
    "df_subm"
   ]
  },
  {
   "cell_type": "code",
   "execution_count": 17,
   "id": "4c90f899",
   "metadata": {
    "papermill": {
     "duration": 0.004277,
     "end_time": "2024-12-28T15:55:27.412097",
     "exception": false,
     "start_time": "2024-12-28T15:55:27.407820",
     "status": "completed"
    },
    "tags": []
   },
   "outputs": [],
   "source": [
    "from sklearn.metrics import cohen_kappa_score"
   ]
  },
  {
   "cell_type": "code",
   "execution_count": 18,
   "id": "202db3a4-c5fb-4aab-b94c-62f99eb6268c",
   "metadata": {},
   "outputs": [
    {
     "data": {
      "text/plain": [
       "0.6057808967445042"
      ]
     },
     "execution_count": 18,
     "metadata": {},
     "output_type": "execute_result"
    }
   ],
   "source": [
    "cohen_kappa_score(df_subm[\"sii\"], df_subm[\"sii_pred\"], weights=\"quadratic\")"
   ]
  },
  {
   "cell_type": "markdown",
   "id": "421a218d-62c2-4643-bf97-6997a394e5bd",
   "metadata": {},
   "source": [
    "## check ensamble oof"
   ]
  },
  {
   "cell_type": "code",
   "execution_count": 25,
   "id": "f2b86cb4-21c2-4b98-a6ab-fce7dc37b72d",
   "metadata": {},
   "outputs": [],
   "source": [
    "df_subm = pd.read_csv(\"/home/user/work/CMI2024/data/child-mind-institute-problematic-internet-use/train.csv\")\n",
    "df_subm = df_subm[df_subm[\"sii\"].notna()]"
   ]
  },
  {
   "cell_type": "code",
   "execution_count": 20,
   "id": "7fbe9dda-aa2b-4218-8d54-5e6fb142b4a9",
   "metadata": {},
   "outputs": [
    {
     "data": {
      "text/plain": [
       "(40, 2736)"
      ]
     },
     "execution_count": 20,
     "metadata": {},
     "output_type": "execute_result"
    }
   ],
   "source": [
    "test_preds = []\n",
    "for exp_name in exp_names:\n",
    "    for seed in [12, 22, 32, 42, 52, 62, 72, 82, 92, 102]:\n",
    "        oof = pd.read_csv(f'/home/user/work/CMI2024/CMI2-Pipeline/results/{exp_name}/oof_seed{seed}.csv')\n",
    "        test_preds.append(oof[\"pred\"].to_numpy())\n",
    "test_preds = np.array(test_preds)\n",
    "test_preds.shape"
   ]
  },
  {
   "cell_type": "code",
   "execution_count": 21,
   "id": "cc1554bf-b8b9-4211-bae7-019438a16a03",
   "metadata": {},
   "outputs": [],
   "source": [
    "test_pred = voting(test_preds)"
   ]
  },
  {
   "cell_type": "code",
   "execution_count": 26,
   "id": "b324f867-45c4-4068-82a5-1635a6e932cb",
   "metadata": {},
   "outputs": [],
   "source": [
    "df_subm[\"sii_pred\"] = test_pred.reshape(-1)"
   ]
  },
  {
   "cell_type": "code",
   "execution_count": 27,
   "id": "bbdd5443-e823-4965-8b25-6e1dcb448907",
   "metadata": {},
   "outputs": [
    {
     "data": {
      "text/plain": [
       "0.49214777482788097"
      ]
     },
     "execution_count": 27,
     "metadata": {},
     "output_type": "execute_result"
    }
   ],
   "source": [
    "cohen_kappa_score(df_subm[\"sii\"], df_subm[\"sii_pred\"], weights=\"quadratic\")"
   ]
  }
 ],
 "metadata": {
  "kaggle": {
   "accelerator": "none",
   "dataSources": [
    {
     "databundleVersionId": 9643020,
     "sourceId": 81933,
     "sourceType": "competition"
    },
    {
     "datasetId": 6389522,
     "sourceId": 10320203,
     "sourceType": "datasetVersion"
    },
    {
     "datasetId": 6389546,
     "sourceId": 10320212,
     "sourceType": "datasetVersion"
    }
   ],
   "isGpuEnabled": false,
   "isInternetEnabled": false,
   "language": "python",
   "sourceType": "notebook"
  },
  "kernelspec": {
   "display_name": "Python 3 (ipykernel)",
   "language": "python",
   "name": "python3"
  },
  "language_info": {
   "codemirror_mode": {
    "name": "ipython",
    "version": 3
   },
   "file_extension": ".py",
   "mimetype": "text/x-python",
   "name": "python",
   "nbconvert_exporter": "python",
   "pygments_lexer": "ipython3",
   "version": "3.10.12"
  },
  "papermill": {
   "default_parameters": {},
   "duration": 68.628692,
   "end_time": "2024-12-28T15:55:28.036944",
   "environment_variables": {},
   "exception": null,
   "input_path": "__notebook__.ipynb",
   "output_path": "__notebook__.ipynb",
   "parameters": {},
   "start_time": "2024-12-28T15:54:19.408252",
   "version": "2.6.0"
  }
 },
 "nbformat": 4,
 "nbformat_minor": 5
}
